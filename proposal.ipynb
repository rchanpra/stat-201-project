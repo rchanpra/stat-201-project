{
 "cells": [
  {
   "cell_type": "markdown",
   "id": "bbb75272-697a-4006-a124-e11588882b78",
   "metadata": {},
   "source": [
    "## Proposal"
   ]
  },
  {
   "cell_type": "markdown",
   "id": "f7f7243b-10b7-420a-a6bc-22c5ed1ebf25",
   "metadata": {},
   "source": [
    "The purpose of this is to test if I can push to GitHub"
   ]
  },
  {
   "cell_type": "code",
   "execution_count": 4,
   "id": "384fa441-96e5-47f6-b327-ecbeed3a6785",
   "metadata": {
    "tags": []
   },
   "outputs": [
    {
     "data": {
      "text/html": [
       "<table class=\"dataframe\">\n",
       "<caption>A data.frame: 6 × 58</caption>\n",
       "<thead>\n",
       "\t<tr><th></th><th scope=col>X0</th><th scope=col>X0.64</th><th scope=col>X0.64.1</th><th scope=col>X0.1</th><th scope=col>X0.32</th><th scope=col>X0.2</th><th scope=col>X0.3</th><th scope=col>X0.4</th><th scope=col>X0.5</th><th scope=col>X0.6</th><th scope=col>⋯</th><th scope=col>X0.41</th><th scope=col>X0.42</th><th scope=col>X0.43</th><th scope=col>X0.778</th><th scope=col>X0.44</th><th scope=col>X0.45</th><th scope=col>X3.756</th><th scope=col>X61</th><th scope=col>X278</th><th scope=col>X1</th></tr>\n",
       "\t<tr><th></th><th scope=col>&lt;dbl&gt;</th><th scope=col>&lt;dbl&gt;</th><th scope=col>&lt;dbl&gt;</th><th scope=col>&lt;dbl&gt;</th><th scope=col>&lt;dbl&gt;</th><th scope=col>&lt;dbl&gt;</th><th scope=col>&lt;dbl&gt;</th><th scope=col>&lt;dbl&gt;</th><th scope=col>&lt;dbl&gt;</th><th scope=col>&lt;dbl&gt;</th><th scope=col>⋯</th><th scope=col>&lt;dbl&gt;</th><th scope=col>&lt;dbl&gt;</th><th scope=col>&lt;dbl&gt;</th><th scope=col>&lt;dbl&gt;</th><th scope=col>&lt;dbl&gt;</th><th scope=col>&lt;dbl&gt;</th><th scope=col>&lt;dbl&gt;</th><th scope=col>&lt;int&gt;</th><th scope=col>&lt;int&gt;</th><th scope=col>&lt;int&gt;</th></tr>\n",
       "</thead>\n",
       "<tbody>\n",
       "\t<tr><th scope=row>1</th><td>0.21</td><td>0.28</td><td>0.50</td><td>0</td><td>0.14</td><td>0.28</td><td>0.21</td><td>0.07</td><td>0.00</td><td>0.94</td><td>⋯</td><td>0.00</td><td>0.132</td><td>0</td><td>0.372</td><td>0.180</td><td>0.048</td><td>5.114</td><td>101</td><td>1028</td><td>1</td></tr>\n",
       "\t<tr><th scope=row>2</th><td>0.06</td><td>0.00</td><td>0.71</td><td>0</td><td>1.23</td><td>0.19</td><td>0.19</td><td>0.12</td><td>0.64</td><td>0.25</td><td>⋯</td><td>0.01</td><td>0.143</td><td>0</td><td>0.276</td><td>0.184</td><td>0.010</td><td>9.821</td><td>485</td><td>2259</td><td>1</td></tr>\n",
       "\t<tr><th scope=row>3</th><td>0.00</td><td>0.00</td><td>0.00</td><td>0</td><td>0.63</td><td>0.00</td><td>0.31</td><td>0.63</td><td>0.31</td><td>0.63</td><td>⋯</td><td>0.00</td><td>0.137</td><td>0</td><td>0.137</td><td>0.000</td><td>0.000</td><td>3.537</td><td> 40</td><td> 191</td><td>1</td></tr>\n",
       "\t<tr><th scope=row>4</th><td>0.00</td><td>0.00</td><td>0.00</td><td>0</td><td>0.63</td><td>0.00</td><td>0.31</td><td>0.63</td><td>0.31</td><td>0.63</td><td>⋯</td><td>0.00</td><td>0.135</td><td>0</td><td>0.135</td><td>0.000</td><td>0.000</td><td>3.537</td><td> 40</td><td> 191</td><td>1</td></tr>\n",
       "\t<tr><th scope=row>5</th><td>0.00</td><td>0.00</td><td>0.00</td><td>0</td><td>1.85</td><td>0.00</td><td>0.00</td><td>1.85</td><td>0.00</td><td>0.00</td><td>⋯</td><td>0.00</td><td>0.223</td><td>0</td><td>0.000</td><td>0.000</td><td>0.000</td><td>3.000</td><td> 15</td><td>  54</td><td>1</td></tr>\n",
       "\t<tr><th scope=row>6</th><td>0.00</td><td>0.00</td><td>0.00</td><td>0</td><td>1.92</td><td>0.00</td><td>0.00</td><td>0.00</td><td>0.00</td><td>0.64</td><td>⋯</td><td>0.00</td><td>0.054</td><td>0</td><td>0.164</td><td>0.054</td><td>0.000</td><td>1.671</td><td>  4</td><td> 112</td><td>1</td></tr>\n",
       "</tbody>\n",
       "</table>\n"
      ],
      "text/latex": [
       "A data.frame: 6 × 58\n",
       "\\begin{tabular}{r|lllllllllllllllllllll}\n",
       "  & X0 & X0.64 & X0.64.1 & X0.1 & X0.32 & X0.2 & X0.3 & X0.4 & X0.5 & X0.6 & ⋯ & X0.41 & X0.42 & X0.43 & X0.778 & X0.44 & X0.45 & X3.756 & X61 & X278 & X1\\\\\n",
       "  & <dbl> & <dbl> & <dbl> & <dbl> & <dbl> & <dbl> & <dbl> & <dbl> & <dbl> & <dbl> & ⋯ & <dbl> & <dbl> & <dbl> & <dbl> & <dbl> & <dbl> & <dbl> & <int> & <int> & <int>\\\\\n",
       "\\hline\n",
       "\t1 & 0.21 & 0.28 & 0.50 & 0 & 0.14 & 0.28 & 0.21 & 0.07 & 0.00 & 0.94 & ⋯ & 0.00 & 0.132 & 0 & 0.372 & 0.180 & 0.048 & 5.114 & 101 & 1028 & 1\\\\\n",
       "\t2 & 0.06 & 0.00 & 0.71 & 0 & 1.23 & 0.19 & 0.19 & 0.12 & 0.64 & 0.25 & ⋯ & 0.01 & 0.143 & 0 & 0.276 & 0.184 & 0.010 & 9.821 & 485 & 2259 & 1\\\\\n",
       "\t3 & 0.00 & 0.00 & 0.00 & 0 & 0.63 & 0.00 & 0.31 & 0.63 & 0.31 & 0.63 & ⋯ & 0.00 & 0.137 & 0 & 0.137 & 0.000 & 0.000 & 3.537 &  40 &  191 & 1\\\\\n",
       "\t4 & 0.00 & 0.00 & 0.00 & 0 & 0.63 & 0.00 & 0.31 & 0.63 & 0.31 & 0.63 & ⋯ & 0.00 & 0.135 & 0 & 0.135 & 0.000 & 0.000 & 3.537 &  40 &  191 & 1\\\\\n",
       "\t5 & 0.00 & 0.00 & 0.00 & 0 & 1.85 & 0.00 & 0.00 & 1.85 & 0.00 & 0.00 & ⋯ & 0.00 & 0.223 & 0 & 0.000 & 0.000 & 0.000 & 3.000 &  15 &   54 & 1\\\\\n",
       "\t6 & 0.00 & 0.00 & 0.00 & 0 & 1.92 & 0.00 & 0.00 & 0.00 & 0.00 & 0.64 & ⋯ & 0.00 & 0.054 & 0 & 0.164 & 0.054 & 0.000 & 1.671 &   4 &  112 & 1\\\\\n",
       "\\end{tabular}\n"
      ],
      "text/markdown": [
       "\n",
       "A data.frame: 6 × 58\n",
       "\n",
       "| <!--/--> | X0 &lt;dbl&gt; | X0.64 &lt;dbl&gt; | X0.64.1 &lt;dbl&gt; | X0.1 &lt;dbl&gt; | X0.32 &lt;dbl&gt; | X0.2 &lt;dbl&gt; | X0.3 &lt;dbl&gt; | X0.4 &lt;dbl&gt; | X0.5 &lt;dbl&gt; | X0.6 &lt;dbl&gt; | ⋯ ⋯ | X0.41 &lt;dbl&gt; | X0.42 &lt;dbl&gt; | X0.43 &lt;dbl&gt; | X0.778 &lt;dbl&gt; | X0.44 &lt;dbl&gt; | X0.45 &lt;dbl&gt; | X3.756 &lt;dbl&gt; | X61 &lt;int&gt; | X278 &lt;int&gt; | X1 &lt;int&gt; |\n",
       "|---|---|---|---|---|---|---|---|---|---|---|---|---|---|---|---|---|---|---|---|---|---|\n",
       "| 1 | 0.21 | 0.28 | 0.50 | 0 | 0.14 | 0.28 | 0.21 | 0.07 | 0.00 | 0.94 | ⋯ | 0.00 | 0.132 | 0 | 0.372 | 0.180 | 0.048 | 5.114 | 101 | 1028 | 1 |\n",
       "| 2 | 0.06 | 0.00 | 0.71 | 0 | 1.23 | 0.19 | 0.19 | 0.12 | 0.64 | 0.25 | ⋯ | 0.01 | 0.143 | 0 | 0.276 | 0.184 | 0.010 | 9.821 | 485 | 2259 | 1 |\n",
       "| 3 | 0.00 | 0.00 | 0.00 | 0 | 0.63 | 0.00 | 0.31 | 0.63 | 0.31 | 0.63 | ⋯ | 0.00 | 0.137 | 0 | 0.137 | 0.000 | 0.000 | 3.537 |  40 |  191 | 1 |\n",
       "| 4 | 0.00 | 0.00 | 0.00 | 0 | 0.63 | 0.00 | 0.31 | 0.63 | 0.31 | 0.63 | ⋯ | 0.00 | 0.135 | 0 | 0.135 | 0.000 | 0.000 | 3.537 |  40 |  191 | 1 |\n",
       "| 5 | 0.00 | 0.00 | 0.00 | 0 | 1.85 | 0.00 | 0.00 | 1.85 | 0.00 | 0.00 | ⋯ | 0.00 | 0.223 | 0 | 0.000 | 0.000 | 0.000 | 3.000 |  15 |   54 | 1 |\n",
       "| 6 | 0.00 | 0.00 | 0.00 | 0 | 1.92 | 0.00 | 0.00 | 0.00 | 0.00 | 0.64 | ⋯ | 0.00 | 0.054 | 0 | 0.164 | 0.054 | 0.000 | 1.671 |   4 |  112 | 1 |\n",
       "\n"
      ],
      "text/plain": [
       "  X0   X0.64 X0.64.1 X0.1 X0.32 X0.2 X0.3 X0.4 X0.5 X0.6 ⋯ X0.41 X0.42 X0.43\n",
       "1 0.21 0.28  0.50    0    0.14  0.28 0.21 0.07 0.00 0.94 ⋯ 0.00  0.132 0    \n",
       "2 0.06 0.00  0.71    0    1.23  0.19 0.19 0.12 0.64 0.25 ⋯ 0.01  0.143 0    \n",
       "3 0.00 0.00  0.00    0    0.63  0.00 0.31 0.63 0.31 0.63 ⋯ 0.00  0.137 0    \n",
       "4 0.00 0.00  0.00    0    0.63  0.00 0.31 0.63 0.31 0.63 ⋯ 0.00  0.135 0    \n",
       "5 0.00 0.00  0.00    0    1.85  0.00 0.00 1.85 0.00 0.00 ⋯ 0.00  0.223 0    \n",
       "6 0.00 0.00  0.00    0    1.92  0.00 0.00 0.00 0.00 0.64 ⋯ 0.00  0.054 0    \n",
       "  X0.778 X0.44 X0.45 X3.756 X61 X278 X1\n",
       "1 0.372  0.180 0.048 5.114  101 1028 1 \n",
       "2 0.276  0.184 0.010 9.821  485 2259 1 \n",
       "3 0.137  0.000 0.000 3.537   40  191 1 \n",
       "4 0.135  0.000 0.000 3.537   40  191 1 \n",
       "5 0.000  0.000 0.000 3.000   15   54 1 \n",
       "6 0.164  0.054 0.000 1.671    4  112 1 "
      ]
     },
     "metadata": {},
     "output_type": "display_data"
    }
   ],
   "source": [
    "spambase <- read.csv(\"spambase/spambase.data\")\n",
    "head(spambase)"
   ]
  },
  {
   "cell_type": "code",
   "execution_count": null,
   "id": "7c6ddc66-36e8-4a82-86f5-a487a4ff01d0",
   "metadata": {},
   "outputs": [],
   "source": []
  },
  {
   "cell_type": "code",
   "execution_count": null,
   "id": "2d01ded3-dd9f-489e-86db-2e6bdfd052a9",
   "metadata": {},
   "outputs": [],
   "source": []
  }
 ],
 "metadata": {
  "kernelspec": {
   "display_name": "R",
   "language": "R",
   "name": "ir"
  },
  "language_info": {
   "codemirror_mode": "r",
   "file_extension": ".r",
   "mimetype": "text/x-r-source",
   "name": "R",
   "pygments_lexer": "r",
   "version": "4.2.3"
  }
 },
 "nbformat": 4,
 "nbformat_minor": 5
}
