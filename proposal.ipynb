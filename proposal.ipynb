{
 "cells": [
  {
   "cell_type": "markdown",
   "id": "bbb75272-697a-4006-a124-e11588882b78",
   "metadata": {},
   "source": [
    "## Proposal"
   ]
  },
  {
   "cell_type": "markdown",
   "id": "f7f7243b-10b7-420a-a6bc-22c5ed1ebf25",
   "metadata": {},
   "source": [
    "The purpose of this is to test if I can push to GitHub"
   ]
  }
 ],
 "metadata": {
  "kernelspec": {
   "display_name": "R",
   "language": "R",
   "name": "ir"
  },
  "language_info": {
   "codemirror_mode": "r",
   "file_extension": ".r",
   "mimetype": "text/x-r-source",
   "name": "R",
   "pygments_lexer": "r",
   "version": "4.2.3"
  }
 },
 "nbformat": 4,
 "nbformat_minor": 5
}
