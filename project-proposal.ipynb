{
 "cells": [
  {
   "cell_type": "markdown",
   "id": "bbb75272-697a-4006-a124-e11588882b78",
   "metadata": {
    "tags": []
   },
   "source": [
    "# Spambase\n",
    "Group 7 - Project Proposal\n",
    "- Evan Armstrong\n",
    "- Rapeewit Chanprakaisi #57529208\n",
    "- Riyan Qureshi\n",
    "- Kathryn Wu"
   ]
  },
  {
   "cell_type": "markdown",
   "id": "3dfb9e78-7be4-4e06-bb25-1d50e02ff635",
   "metadata": {},
   "source": [
    "## Introduction\n",
    "\n",
    "Spam email and text has been a rapidly growing problem since the 1990s. Spam email is unsolicited bulk email, with content varying from explicit to commercial (Cranor et al., 74), sometimes containing embedded attachments that activate once the email is read. Bulk email is easy and inexpensive to send, but is costly to receive. Spam can burden email service providers, as well as waste a recipient’s time and energy on sorting out legitimate communications. While spam mail was noted to be on the decline as of 2013, it has grown more sophisticated, using more complex tactics to disguise themselves from spam filters (Irani et al., 2). \n",
    "\n",
    "The Spambase dataset is a collection of spam and non-spam emails from assorted work and personal emails. Its variables of interest include the frequencies of various words, measures of the length of uninterrupted capital letter sequences, and the email’s classification as spam or non-spam, initially represented as 1 and 0 respectively.\n",
    "We will be focusing on the variables [], which represent []. The question we want to answer is [].\n"
   ]
  },
  {
   "cell_type": "markdown",
   "id": "8d325d71-df76-479f-a47f-8cf8766337fe",
   "metadata": {},
   "source": [
    "## Preliminary Results"
   ]
  },
  {
   "cell_type": "markdown",
   "id": "d239e8b6-c9a8-4b90-b125-993c25d87b73",
   "metadata": {},
   "source": [
    "Loading the packages."
   ]
  },
  {
   "cell_type": "code",
   "execution_count": 1,
   "id": "376082e9-00a8-446c-8528-7a075709aea9",
   "metadata": {
    "tags": []
   },
   "outputs": [
    {
     "name": "stderr",
     "output_type": "stream",
     "text": [
      "── \u001b[1mAttaching core tidyverse packages\u001b[22m ──────────────────────── tidyverse 2.0.0 ──\n",
      "\u001b[32m✔\u001b[39m \u001b[34mdplyr    \u001b[39m 1.1.3     \u001b[32m✔\u001b[39m \u001b[34mreadr    \u001b[39m 2.1.4\n",
      "\u001b[32m✔\u001b[39m \u001b[34mforcats  \u001b[39m 1.0.0     \u001b[32m✔\u001b[39m \u001b[34mstringr  \u001b[39m 1.5.0\n",
      "\u001b[32m✔\u001b[39m \u001b[34mggplot2  \u001b[39m 3.4.3     \u001b[32m✔\u001b[39m \u001b[34mtibble   \u001b[39m 3.2.1\n",
      "\u001b[32m✔\u001b[39m \u001b[34mlubridate\u001b[39m 1.9.2     \u001b[32m✔\u001b[39m \u001b[34mtidyr    \u001b[39m 1.3.0\n",
      "\u001b[32m✔\u001b[39m \u001b[34mpurrr    \u001b[39m 1.0.1     \n",
      "── \u001b[1mConflicts\u001b[22m ────────────────────────────────────────── tidyverse_conflicts() ──\n",
      "\u001b[31m✖\u001b[39m \u001b[34mdplyr\u001b[39m::\u001b[32mfilter()\u001b[39m masks \u001b[34mstats\u001b[39m::filter()\n",
      "\u001b[31m✖\u001b[39m \u001b[34mdplyr\u001b[39m::\u001b[32mlag()\u001b[39m    masks \u001b[34mstats\u001b[39m::lag()\n",
      "\u001b[36mℹ\u001b[39m Use the conflicted package (\u001b[3m\u001b[34m<http://conflicted.r-lib.org/>\u001b[39m\u001b[23m) to force all conflicts to become errors\n",
      "\n",
      "Attaching package: ‘gridExtra’\n",
      "\n",
      "\n",
      "The following object is masked from ‘package:dplyr’:\n",
      "\n",
      "    combine\n",
      "\n",
      "\n",
      "\n",
      "Attaching package: ‘cowplot’\n",
      "\n",
      "\n",
      "The following object is masked from ‘package:lubridate’:\n",
      "\n",
      "    stamp\n",
      "\n",
      "\n"
     ]
    }
   ],
   "source": [
    "library(tidyverse)\n",
    "library(repr)\n",
    "library(datateachr)\n",
    "library(digest)\n",
    "library(infer)\n",
    "library(gridExtra)\n",
    "library(cowplot)"
   ]
  },
  {
   "cell_type": "markdown",
   "id": "54e7b532-6947-4655-a999-54beec12e84a",
   "metadata": {},
   "source": [
    "Reading the dataset from the web into R."
   ]
  },
  {
   "cell_type": "code",
   "execution_count": 2,
   "id": "384fa441-96e5-47f6-b327-ecbeed3a6785",
   "metadata": {
    "tags": []
   },
   "outputs": [],
   "source": [
    "spambase <- read.csv(\"https://raw.githubusercontent.com/rchanpra/stat-201-project/main/spambase/spambase.data\")"
   ]
  },
  {
   "cell_type": "code",
   "execution_count": 3,
   "id": "e4e74041-d4cd-45e9-9025-6b8f93848f63",
   "metadata": {
    "tags": []
   },
   "outputs": [],
   "source": [
    "colnames(spambase) <- c(\"word_freq_make\",\n",
    "                        \"word_freq_address\",\n",
    "                        \"word_freq_all\",\n",
    "                        \"word_freq_3d\",\n",
    "                        \"word_freq_our\",\n",
    "                        \"word_freq_over\",\n",
    "                        \"word_freq_remove\",\n",
    "                        \"word_freq_internet\",\n",
    "                        \"word_freq_order\",\n",
    "                        \"word_freq_mail\",\n",
    "                        \"word_freq_receive\",\n",
    "                        \"word_freq_will\",\n",
    "                        \"word_freq_people\",\n",
    "                        \"word_freq_report\",\n",
    "                        \"word_freq_addresses\",\n",
    "                        \"word_freq_free\",\n",
    "                        \"word_freq_business\",\n",
    "                        \"word_freq_email\",\n",
    "                        \"word_freq_you\",\n",
    "                        \"word_freq_credit\",\n",
    "                        \"word_freq_your\",\n",
    "                        \"word_freq_font\",\n",
    "                        \"word_freq_000\",\n",
    "                        \"word_freq_money\",\n",
    "                        \"word_freq_hp\",\n",
    "                        \"word_freq_hpl\",\n",
    "                        \"word_freq_george\",\n",
    "                        \"word_freq_650\",\n",
    "                        \"word_freq_lab\",\n",
    "                        \"word_freq_labs\",\n",
    "                        \"word_freq_telnet\",\n",
    "                        \"word_freq_857\",\n",
    "                        \"word_freq_data\",\n",
    "                        \"word_freq_415\",\n",
    "                        \"word_freq_85\",\n",
    "                        \"word_freq_technology\",\n",
    "                        \"word_freq_1999\",\n",
    "                        \"word_freq_parts\",\n",
    "                        \"word_freq_pm\",\n",
    "                        \"word_freq_direct\",\n",
    "                        \"word_freq_cs\",\n",
    "                        \"word_freq_meeting\",\n",
    "                        \"word_freq_original\",\n",
    "                        \"word_freq_project\",\n",
    "                        \"word_freq_re\",\n",
    "                        \"word_freq_edu\",\n",
    "                        \"word_freq_table\",\n",
    "                        \"word_freq_conference\",\n",
    "                        \"char_freq_;\",\n",
    "                        \"char_freq_(\",\n",
    "                        \"char_freq_[\",\n",
    "                        \"char_freq_!\",\n",
    "                        \"char_freq_$\",\n",
    "                        \"char_freq_#\",\n",
    "                        \"capital_run_length_average\",\n",
    "                        \"capital_run_length_longest\",\n",
    "                        \"capital_run_length_total\",\n",
    "                        \"class\")"
   ]
  },
  {
   "cell_type": "code",
   "execution_count": 4,
   "id": "0217eb9f-a3b5-4e76-ac12-8ef5452e4987",
   "metadata": {
    "tags": []
   },
   "outputs": [],
   "source": [
    "spambase <- \n",
    "    spambase %>% \n",
    "    mutate(class = ifelse(class == 1, \"spam\", \"non-spam\"))"
   ]
  },
  {
   "cell_type": "code",
   "execution_count": 5,
   "id": "b7609ae9-e9c5-4ea9-ad17-f2aa099c8374",
   "metadata": {
    "tags": []
   },
   "outputs": [
    {
     "data": {
      "text/html": [
       "<table class=\"dataframe\">\n",
       "<caption>A data.frame: 6 × 58</caption>\n",
       "<thead>\n",
       "\t<tr><th></th><th scope=col>word_freq_make</th><th scope=col>word_freq_address</th><th scope=col>word_freq_all</th><th scope=col>word_freq_3d</th><th scope=col>word_freq_our</th><th scope=col>word_freq_over</th><th scope=col>word_freq_remove</th><th scope=col>word_freq_internet</th><th scope=col>word_freq_order</th><th scope=col>word_freq_mail</th><th scope=col>⋯</th><th scope=col>char_freq_;</th><th scope=col>char_freq_(</th><th scope=col>char_freq_[</th><th scope=col>char_freq_!</th><th scope=col>char_freq_$</th><th scope=col>char_freq_#</th><th scope=col>capital_run_length_average</th><th scope=col>capital_run_length_longest</th><th scope=col>capital_run_length_total</th><th scope=col>class</th></tr>\n",
       "\t<tr><th></th><th scope=col>&lt;dbl&gt;</th><th scope=col>&lt;dbl&gt;</th><th scope=col>&lt;dbl&gt;</th><th scope=col>&lt;dbl&gt;</th><th scope=col>&lt;dbl&gt;</th><th scope=col>&lt;dbl&gt;</th><th scope=col>&lt;dbl&gt;</th><th scope=col>&lt;dbl&gt;</th><th scope=col>&lt;dbl&gt;</th><th scope=col>&lt;dbl&gt;</th><th scope=col>⋯</th><th scope=col>&lt;dbl&gt;</th><th scope=col>&lt;dbl&gt;</th><th scope=col>&lt;dbl&gt;</th><th scope=col>&lt;dbl&gt;</th><th scope=col>&lt;dbl&gt;</th><th scope=col>&lt;dbl&gt;</th><th scope=col>&lt;dbl&gt;</th><th scope=col>&lt;int&gt;</th><th scope=col>&lt;int&gt;</th><th scope=col>&lt;chr&gt;</th></tr>\n",
       "</thead>\n",
       "<tbody>\n",
       "\t<tr><th scope=row>1</th><td>0.21</td><td>0.28</td><td>0.50</td><td>0</td><td>0.14</td><td>0.28</td><td>0.21</td><td>0.07</td><td>0.00</td><td>0.94</td><td>⋯</td><td>0.00</td><td>0.132</td><td>0</td><td>0.372</td><td>0.180</td><td>0.048</td><td>5.114</td><td>101</td><td>1028</td><td>spam</td></tr>\n",
       "\t<tr><th scope=row>2</th><td>0.06</td><td>0.00</td><td>0.71</td><td>0</td><td>1.23</td><td>0.19</td><td>0.19</td><td>0.12</td><td>0.64</td><td>0.25</td><td>⋯</td><td>0.01</td><td>0.143</td><td>0</td><td>0.276</td><td>0.184</td><td>0.010</td><td>9.821</td><td>485</td><td>2259</td><td>spam</td></tr>\n",
       "\t<tr><th scope=row>3</th><td>0.00</td><td>0.00</td><td>0.00</td><td>0</td><td>0.63</td><td>0.00</td><td>0.31</td><td>0.63</td><td>0.31</td><td>0.63</td><td>⋯</td><td>0.00</td><td>0.137</td><td>0</td><td>0.137</td><td>0.000</td><td>0.000</td><td>3.537</td><td> 40</td><td> 191</td><td>spam</td></tr>\n",
       "\t<tr><th scope=row>4</th><td>0.00</td><td>0.00</td><td>0.00</td><td>0</td><td>0.63</td><td>0.00</td><td>0.31</td><td>0.63</td><td>0.31</td><td>0.63</td><td>⋯</td><td>0.00</td><td>0.135</td><td>0</td><td>0.135</td><td>0.000</td><td>0.000</td><td>3.537</td><td> 40</td><td> 191</td><td>spam</td></tr>\n",
       "\t<tr><th scope=row>5</th><td>0.00</td><td>0.00</td><td>0.00</td><td>0</td><td>1.85</td><td>0.00</td><td>0.00</td><td>1.85</td><td>0.00</td><td>0.00</td><td>⋯</td><td>0.00</td><td>0.223</td><td>0</td><td>0.000</td><td>0.000</td><td>0.000</td><td>3.000</td><td> 15</td><td>  54</td><td>spam</td></tr>\n",
       "\t<tr><th scope=row>6</th><td>0.00</td><td>0.00</td><td>0.00</td><td>0</td><td>1.92</td><td>0.00</td><td>0.00</td><td>0.00</td><td>0.00</td><td>0.64</td><td>⋯</td><td>0.00</td><td>0.054</td><td>0</td><td>0.164</td><td>0.054</td><td>0.000</td><td>1.671</td><td>  4</td><td> 112</td><td>spam</td></tr>\n",
       "</tbody>\n",
       "</table>\n"
      ],
      "text/latex": [
       "A data.frame: 6 × 58\n",
       "\\begin{tabular}{r|lllllllllllllllllllll}\n",
       "  & word\\_freq\\_make & word\\_freq\\_address & word\\_freq\\_all & word\\_freq\\_3d & word\\_freq\\_our & word\\_freq\\_over & word\\_freq\\_remove & word\\_freq\\_internet & word\\_freq\\_order & word\\_freq\\_mail & ⋯ & char\\_freq\\_; & char\\_freq\\_( & char\\_freq\\_{[} & char\\_freq\\_! & char\\_freq\\_\\$ & char\\_freq\\_\\# & capital\\_run\\_length\\_average & capital\\_run\\_length\\_longest & capital\\_run\\_length\\_total & class\\\\\n",
       "  & <dbl> & <dbl> & <dbl> & <dbl> & <dbl> & <dbl> & <dbl> & <dbl> & <dbl> & <dbl> & ⋯ & <dbl> & <dbl> & <dbl> & <dbl> & <dbl> & <dbl> & <dbl> & <int> & <int> & <chr>\\\\\n",
       "\\hline\n",
       "\t1 & 0.21 & 0.28 & 0.50 & 0 & 0.14 & 0.28 & 0.21 & 0.07 & 0.00 & 0.94 & ⋯ & 0.00 & 0.132 & 0 & 0.372 & 0.180 & 0.048 & 5.114 & 101 & 1028 & spam\\\\\n",
       "\t2 & 0.06 & 0.00 & 0.71 & 0 & 1.23 & 0.19 & 0.19 & 0.12 & 0.64 & 0.25 & ⋯ & 0.01 & 0.143 & 0 & 0.276 & 0.184 & 0.010 & 9.821 & 485 & 2259 & spam\\\\\n",
       "\t3 & 0.00 & 0.00 & 0.00 & 0 & 0.63 & 0.00 & 0.31 & 0.63 & 0.31 & 0.63 & ⋯ & 0.00 & 0.137 & 0 & 0.137 & 0.000 & 0.000 & 3.537 &  40 &  191 & spam\\\\\n",
       "\t4 & 0.00 & 0.00 & 0.00 & 0 & 0.63 & 0.00 & 0.31 & 0.63 & 0.31 & 0.63 & ⋯ & 0.00 & 0.135 & 0 & 0.135 & 0.000 & 0.000 & 3.537 &  40 &  191 & spam\\\\\n",
       "\t5 & 0.00 & 0.00 & 0.00 & 0 & 1.85 & 0.00 & 0.00 & 1.85 & 0.00 & 0.00 & ⋯ & 0.00 & 0.223 & 0 & 0.000 & 0.000 & 0.000 & 3.000 &  15 &   54 & spam\\\\\n",
       "\t6 & 0.00 & 0.00 & 0.00 & 0 & 1.92 & 0.00 & 0.00 & 0.00 & 0.00 & 0.64 & ⋯ & 0.00 & 0.054 & 0 & 0.164 & 0.054 & 0.000 & 1.671 &   4 &  112 & spam\\\\\n",
       "\\end{tabular}\n"
      ],
      "text/markdown": [
       "\n",
       "A data.frame: 6 × 58\n",
       "\n",
       "| <!--/--> | word_freq_make &lt;dbl&gt; | word_freq_address &lt;dbl&gt; | word_freq_all &lt;dbl&gt; | word_freq_3d &lt;dbl&gt; | word_freq_our &lt;dbl&gt; | word_freq_over &lt;dbl&gt; | word_freq_remove &lt;dbl&gt; | word_freq_internet &lt;dbl&gt; | word_freq_order &lt;dbl&gt; | word_freq_mail &lt;dbl&gt; | ⋯ ⋯ | char_freq_; &lt;dbl&gt; | char_freq_( &lt;dbl&gt; | char_freq_[ &lt;dbl&gt; | char_freq_! &lt;dbl&gt; | char_freq_$ &lt;dbl&gt; | char_freq_# &lt;dbl&gt; | capital_run_length_average &lt;dbl&gt; | capital_run_length_longest &lt;int&gt; | capital_run_length_total &lt;int&gt; | class &lt;chr&gt; |\n",
       "|---|---|---|---|---|---|---|---|---|---|---|---|---|---|---|---|---|---|---|---|---|---|\n",
       "| 1 | 0.21 | 0.28 | 0.50 | 0 | 0.14 | 0.28 | 0.21 | 0.07 | 0.00 | 0.94 | ⋯ | 0.00 | 0.132 | 0 | 0.372 | 0.180 | 0.048 | 5.114 | 101 | 1028 | spam |\n",
       "| 2 | 0.06 | 0.00 | 0.71 | 0 | 1.23 | 0.19 | 0.19 | 0.12 | 0.64 | 0.25 | ⋯ | 0.01 | 0.143 | 0 | 0.276 | 0.184 | 0.010 | 9.821 | 485 | 2259 | spam |\n",
       "| 3 | 0.00 | 0.00 | 0.00 | 0 | 0.63 | 0.00 | 0.31 | 0.63 | 0.31 | 0.63 | ⋯ | 0.00 | 0.137 | 0 | 0.137 | 0.000 | 0.000 | 3.537 |  40 |  191 | spam |\n",
       "| 4 | 0.00 | 0.00 | 0.00 | 0 | 0.63 | 0.00 | 0.31 | 0.63 | 0.31 | 0.63 | ⋯ | 0.00 | 0.135 | 0 | 0.135 | 0.000 | 0.000 | 3.537 |  40 |  191 | spam |\n",
       "| 5 | 0.00 | 0.00 | 0.00 | 0 | 1.85 | 0.00 | 0.00 | 1.85 | 0.00 | 0.00 | ⋯ | 0.00 | 0.223 | 0 | 0.000 | 0.000 | 0.000 | 3.000 |  15 |   54 | spam |\n",
       "| 6 | 0.00 | 0.00 | 0.00 | 0 | 1.92 | 0.00 | 0.00 | 0.00 | 0.00 | 0.64 | ⋯ | 0.00 | 0.054 | 0 | 0.164 | 0.054 | 0.000 | 1.671 |   4 |  112 | spam |\n",
       "\n"
      ],
      "text/plain": [
       "  word_freq_make word_freq_address word_freq_all word_freq_3d word_freq_our\n",
       "1 0.21           0.28              0.50          0            0.14         \n",
       "2 0.06           0.00              0.71          0            1.23         \n",
       "3 0.00           0.00              0.00          0            0.63         \n",
       "4 0.00           0.00              0.00          0            0.63         \n",
       "5 0.00           0.00              0.00          0            1.85         \n",
       "6 0.00           0.00              0.00          0            1.92         \n",
       "  word_freq_over word_freq_remove word_freq_internet word_freq_order\n",
       "1 0.28           0.21             0.07               0.00           \n",
       "2 0.19           0.19             0.12               0.64           \n",
       "3 0.00           0.31             0.63               0.31           \n",
       "4 0.00           0.31             0.63               0.31           \n",
       "5 0.00           0.00             1.85               0.00           \n",
       "6 0.00           0.00             0.00               0.00           \n",
       "  word_freq_mail ⋯ char_freq_; char_freq_( char_freq_[ char_freq_! char_freq_$\n",
       "1 0.94           ⋯ 0.00        0.132       0           0.372       0.180      \n",
       "2 0.25           ⋯ 0.01        0.143       0           0.276       0.184      \n",
       "3 0.63           ⋯ 0.00        0.137       0           0.137       0.000      \n",
       "4 0.63           ⋯ 0.00        0.135       0           0.135       0.000      \n",
       "5 0.00           ⋯ 0.00        0.223       0           0.000       0.000      \n",
       "6 0.64           ⋯ 0.00        0.054       0           0.164       0.054      \n",
       "  char_freq_# capital_run_length_average capital_run_length_longest\n",
       "1 0.048       5.114                      101                       \n",
       "2 0.010       9.821                      485                       \n",
       "3 0.000       3.537                       40                       \n",
       "4 0.000       3.537                       40                       \n",
       "5 0.000       3.000                       15                       \n",
       "6 0.000       1.671                        4                       \n",
       "  capital_run_length_total class\n",
       "1 1028                     spam \n",
       "2 2259                     spam \n",
       "3  191                     spam \n",
       "4  191                     spam \n",
       "5   54                     spam \n",
       "6  112                     spam "
      ]
     },
     "metadata": {},
     "output_type": "display_data"
    }
   ],
   "source": [
    "head(spambase)"
   ]
  },
  {
   "cell_type": "code",
   "execution_count": 6,
   "id": "ef4a6a03-980a-413f-8c3a-b4644c0d30c8",
   "metadata": {
    "tags": []
   },
   "outputs": [
    {
     "data": {
      "text/plain": [
       " word_freq_make   word_freq_address word_freq_all     word_freq_3d     \n",
       " Min.   :0.0000   Min.   : 0.0000   Min.   :0.0000   Min.   : 0.00000  \n",
       " 1st Qu.:0.0000   1st Qu.: 0.0000   1st Qu.:0.0000   1st Qu.: 0.00000  \n",
       " Median :0.0000   Median : 0.0000   Median :0.0000   Median : 0.00000  \n",
       " Mean   :0.1046   Mean   : 0.2129   Mean   :0.2806   Mean   : 0.06544  \n",
       " 3rd Qu.:0.0000   3rd Qu.: 0.0000   3rd Qu.:0.4200   3rd Qu.: 0.00000  \n",
       " Max.   :4.5400   Max.   :14.2800   Max.   :5.1000   Max.   :42.81000  \n",
       " word_freq_our     word_freq_over    word_freq_remove word_freq_internet\n",
       " Min.   : 0.0000   Min.   :0.00000   Min.   :0.0000   Min.   : 0.0000   \n",
       " 1st Qu.: 0.0000   1st Qu.:0.00000   1st Qu.:0.0000   1st Qu.: 0.0000   \n",
       " Median : 0.0000   Median :0.00000   Median :0.0000   Median : 0.0000   \n",
       " Mean   : 0.3122   Mean   :0.09592   Mean   :0.1142   Mean   : 0.1053   \n",
       " 3rd Qu.: 0.3825   3rd Qu.:0.00000   3rd Qu.:0.0000   3rd Qu.: 0.0000   \n",
       " Max.   :10.0000   Max.   :5.88000   Max.   :7.2700   Max.   :11.1100   \n",
       " word_freq_order   word_freq_mail    word_freq_receive word_freq_will  \n",
       " Min.   :0.00000   Min.   : 0.0000   Min.   :0.00000   Min.   :0.0000  \n",
       " 1st Qu.:0.00000   1st Qu.: 0.0000   1st Qu.:0.00000   1st Qu.:0.0000  \n",
       " Median :0.00000   Median : 0.0000   Median :0.00000   Median :0.1000  \n",
       " Mean   :0.09009   Mean   : 0.2395   Mean   :0.05984   Mean   :0.5417  \n",
       " 3rd Qu.:0.00000   3rd Qu.: 0.1600   3rd Qu.:0.00000   3rd Qu.:0.8000  \n",
       " Max.   :5.26000   Max.   :18.1800   Max.   :2.61000   Max.   :9.6700  \n",
       " word_freq_people  word_freq_report   word_freq_addresses word_freq_free   \n",
       " Min.   :0.00000   Min.   : 0.00000   Min.   :0.00000     Min.   : 0.0000  \n",
       " 1st Qu.:0.00000   1st Qu.: 0.00000   1st Qu.:0.00000     1st Qu.: 0.0000  \n",
       " Median :0.00000   Median : 0.00000   Median :0.00000     Median : 0.0000  \n",
       " Mean   :0.09395   Mean   : 0.05864   Mean   :0.04922     Mean   : 0.2488  \n",
       " 3rd Qu.:0.00000   3rd Qu.: 0.00000   3rd Qu.:0.00000     3rd Qu.: 0.1000  \n",
       " Max.   :5.55000   Max.   :10.00000   Max.   :4.41000     Max.   :20.0000  \n",
       " word_freq_business word_freq_email  word_freq_you    word_freq_credit \n",
       " Min.   :0.0000     Min.   :0.0000   Min.   : 0.000   Min.   : 0.0000  \n",
       " 1st Qu.:0.0000     1st Qu.:0.0000   1st Qu.: 0.000   1st Qu.: 0.0000  \n",
       " Median :0.0000     Median :0.0000   Median : 1.310   Median : 0.0000  \n",
       " Mean   :0.1426     Mean   :0.1845   Mean   : 1.662   Mean   : 0.0856  \n",
       " 3rd Qu.:0.0000     3rd Qu.:0.0000   3rd Qu.: 2.640   3rd Qu.: 0.0000  \n",
       " Max.   :7.1400     Max.   :9.0900   Max.   :18.750   Max.   :18.1800  \n",
       " word_freq_your    word_freq_font    word_freq_000    word_freq_money   \n",
       " Min.   : 0.0000   Min.   : 0.0000   Min.   :0.0000   Min.   : 0.00000  \n",
       " 1st Qu.: 0.0000   1st Qu.: 0.0000   1st Qu.:0.0000   1st Qu.: 0.00000  \n",
       " Median : 0.2200   Median : 0.0000   Median :0.0000   Median : 0.00000  \n",
       " Mean   : 0.8097   Mean   : 0.1212   Mean   :0.1017   Mean   : 0.09429  \n",
       " 3rd Qu.: 1.2700   3rd Qu.: 0.0000   3rd Qu.:0.0000   3rd Qu.: 0.00000  \n",
       " Max.   :11.1100   Max.   :17.1000   Max.   :5.4500   Max.   :12.50000  \n",
       "  word_freq_hp     word_freq_hpl     word_freq_george  word_freq_650   \n",
       " Min.   : 0.0000   Min.   : 0.0000   Min.   : 0.0000   Min.   :0.0000  \n",
       " 1st Qu.: 0.0000   1st Qu.: 0.0000   1st Qu.: 0.0000   1st Qu.:0.0000  \n",
       " Median : 0.0000   Median : 0.0000   Median : 0.0000   Median :0.0000  \n",
       " Mean   : 0.5496   Mean   : 0.2654   Mean   : 0.7675   Mean   :0.1249  \n",
       " 3rd Qu.: 0.0000   3rd Qu.: 0.0000   3rd Qu.: 0.0000   3rd Qu.:0.0000  \n",
       " Max.   :20.8300   Max.   :16.6600   Max.   :33.3300   Max.   :9.0900  \n",
       " word_freq_lab      word_freq_labs   word_freq_telnet   word_freq_857    \n",
       " Min.   : 0.00000   Min.   :0.0000   Min.   : 0.00000   Min.   :0.00000  \n",
       " 1st Qu.: 0.00000   1st Qu.:0.0000   1st Qu.: 0.00000   1st Qu.:0.00000  \n",
       " Median : 0.00000   Median :0.0000   Median : 0.00000   Median :0.00000  \n",
       " Mean   : 0.09894   Mean   :0.1029   Mean   : 0.06477   Mean   :0.04706  \n",
       " 3rd Qu.: 0.00000   3rd Qu.:0.0000   3rd Qu.: 0.00000   3rd Qu.:0.00000  \n",
       " Max.   :14.28000   Max.   :5.8800   Max.   :12.50000   Max.   :4.76000  \n",
       " word_freq_data     word_freq_415      word_freq_85     word_freq_technology\n",
       " Min.   : 0.00000   Min.   :0.00000   Min.   : 0.0000   Min.   :0.0000      \n",
       " 1st Qu.: 0.00000   1st Qu.:0.00000   1st Qu.: 0.0000   1st Qu.:0.0000      \n",
       " Median : 0.00000   Median :0.00000   Median : 0.0000   Median :0.0000      \n",
       " Mean   : 0.09725   Mean   :0.04785   Mean   : 0.1054   Mean   :0.0975      \n",
       " 3rd Qu.: 0.00000   3rd Qu.:0.00000   3rd Qu.: 0.0000   3rd Qu.:0.0000      \n",
       " Max.   :18.18000   Max.   :4.76000   Max.   :20.0000   Max.   :7.6900      \n",
       " word_freq_1999  word_freq_parts   word_freq_pm      word_freq_direct \n",
       " Min.   :0.000   Min.   :0.0000   Min.   : 0.00000   Min.   :0.00000  \n",
       " 1st Qu.:0.000   1st Qu.:0.0000   1st Qu.: 0.00000   1st Qu.:0.00000  \n",
       " Median :0.000   Median :0.0000   Median : 0.00000   Median :0.00000  \n",
       " Mean   :0.137   Mean   :0.0132   Mean   : 0.07865   Mean   :0.06485  \n",
       " 3rd Qu.:0.000   3rd Qu.:0.0000   3rd Qu.: 0.00000   3rd Qu.:0.00000  \n",
       " Max.   :6.890   Max.   :8.3300   Max.   :11.11000   Max.   :4.76000  \n",
       "  word_freq_cs     word_freq_meeting word_freq_original word_freq_project \n",
       " Min.   :0.00000   Min.   : 0.0000   Min.   :0.00000    Min.   : 0.00000  \n",
       " 1st Qu.:0.00000   1st Qu.: 0.0000   1st Qu.:0.00000    1st Qu.: 0.00000  \n",
       " Median :0.00000   Median : 0.0000   Median :0.00000    Median : 0.00000  \n",
       " Mean   :0.04368   Mean   : 0.1324   Mean   :0.04611    Mean   : 0.07921  \n",
       " 3rd Qu.:0.00000   3rd Qu.: 0.0000   3rd Qu.:0.00000    3rd Qu.: 0.00000  \n",
       " Max.   :7.14000   Max.   :14.2800   Max.   :3.57000    Max.   :20.00000  \n",
       "  word_freq_re     word_freq_edu     word_freq_table    word_freq_conference\n",
       " Min.   : 0.0000   Min.   : 0.0000   Min.   :0.000000   Min.   : 0.00000    \n",
       " 1st Qu.: 0.0000   1st Qu.: 0.0000   1st Qu.:0.000000   1st Qu.: 0.00000    \n",
       " Median : 0.0000   Median : 0.0000   Median :0.000000   Median : 0.00000    \n",
       " Mean   : 0.3013   Mean   : 0.1799   Mean   :0.005446   Mean   : 0.03188    \n",
       " 3rd Qu.: 0.1100   3rd Qu.: 0.0000   3rd Qu.:0.000000   3rd Qu.: 0.00000    \n",
       " Max.   :21.4200   Max.   :22.0500   Max.   :2.170000   Max.   :10.00000    \n",
       "  char_freq_;       char_freq_(      char_freq_[       char_freq_!     \n",
       " Min.   :0.00000   Min.   :0.0000   Min.   :0.00000   Min.   : 0.0000  \n",
       " 1st Qu.:0.00000   1st Qu.:0.0000   1st Qu.:0.00000   1st Qu.: 0.0000  \n",
       " Median :0.00000   Median :0.0650   Median :0.00000   Median : 0.0000  \n",
       " Mean   :0.03858   Mean   :0.1391   Mean   :0.01698   Mean   : 0.2690  \n",
       " 3rd Qu.:0.00000   3rd Qu.:0.1880   3rd Qu.:0.00000   3rd Qu.: 0.3142  \n",
       " Max.   :4.38500   Max.   :9.7520   Max.   :4.08100   Max.   :32.4780  \n",
       "  char_freq_$       char_freq_#       capital_run_length_average\n",
       " Min.   :0.00000   Min.   : 0.00000   Min.   :   1.000          \n",
       " 1st Qu.:0.00000   1st Qu.: 0.00000   1st Qu.:   1.588          \n",
       " Median :0.00000   Median : 0.00000   Median :   2.276          \n",
       " Mean   :0.07583   Mean   : 0.04425   Mean   :   5.192          \n",
       " 3rd Qu.:0.05200   3rd Qu.: 0.00000   3rd Qu.:   3.705          \n",
       " Max.   :6.00300   Max.   :19.82900   Max.   :1102.500          \n",
       " capital_run_length_longest capital_run_length_total    class          \n",
       " Min.   :   1.00            Min.   :    1.0          Length:4600       \n",
       " 1st Qu.:   6.00            1st Qu.:   35.0          Class :character  \n",
       " Median :  15.00            Median :   95.0          Mode  :character  \n",
       " Mean   :  52.17            Mean   :  283.3                            \n",
       " 3rd Qu.:  43.00            3rd Qu.:  265.2                            \n",
       " Max.   :9989.00            Max.   :15841.0                            "
      ]
     },
     "metadata": {},
     "output_type": "display_data"
    }
   ],
   "source": [
    "summary(spambase)"
   ]
  },
  {
   "cell_type": "markdown",
   "id": "30fe7722-0608-4c48-9d07-ab29da8cc692",
   "metadata": {},
   "source": [
    "## Methods: Plan\n",
    "\n",
    "...\n",
    "\n",
    "...\n",
    "\n",
    "- What do you expect to find?\n",
    "\n",
    "...\n",
    "\n",
    "- What impact could such findings have?\n",
    "\n",
    "...\n",
    "\n",
    "- What future questions could this lead to?\n",
    "\n",
    "..."
   ]
  },
  {
   "cell_type": "markdown",
   "id": "0c492c1c-0f9a-45c9-bf7a-ab6f0340f8da",
   "metadata": {},
   "source": [
    "## References\n",
    "\n",
    "- Hopkins,Mark, Reeber,Erik, Forman,George, and Suermondt,Jaap. (1999). Spambase. UCI Machine Learning Repository. https://doi.org/10.24432/C53G6X."
   ]
  }
 ],
 "metadata": {
  "kernelspec": {
   "display_name": "R",
   "language": "R",
   "name": "ir"
  },
  "language_info": {
   "codemirror_mode": "r",
   "file_extension": ".r",
   "mimetype": "text/x-r-source",
   "name": "R",
   "pygments_lexer": "r",
   "version": "4.2.3"
  }
 },
 "nbformat": 4,
 "nbformat_minor": 5
}
