{
 "cells": [
  {
   "cell_type": "markdown",
   "metadata": {},
   "source": [
    "# Can Spam be Classified Based on Capitalization?"
   ]
  },
  {
   "cell_type": "markdown",
   "metadata": {},
   "source": [
    "## Introduction\n",
    "\n",
    "The `Spambase` dataset is a collection of assorted emails. Its variables include the frequencies of various words, lengths of capital letter sequences, and class, spam(1) or non-spam(0).\n",
    "\n",
    "Spam email is unsolicited bulk email, often explicit or commercial, and has been an issue since the 1990s (Cranor et al., 1998, p.74). Spam is low-cost to send, but burdens service providers and recipients. While declining as of 2013, spam has become sophisticated, disguising itself from filters (Irani et al., 2013, p.2).\n",
    "\n",
    "Due to spam's increasing complexity, additional work must be done to increase the efficacy of its detection. To assist the construction of more practical spam filters, we will look for consistent content difference between spam and non-spam. We focus on the average length of sequences of capital letters, assuming that spam likley uses capitalization to create false urgency and garner attention.\n",
    "\n",
    "The question we set out to answer is:\n",
    "\n",
    "**\"Is the mean average length of uninterrupted sequences of capital letters different for spam and non-spam email?\"**"
   ]
  },
  {
   "cell_type": "markdown",
   "metadata": {},
   "source": [
    "## Preliminary Results"
   ]
  },
  {
   "cell_type": "markdown",
   "metadata": {},
   "source": [
    "We will first load the needed packages."
   ]
  },
  {
   "cell_type": "code",
   "execution_count": null,
   "metadata": {},
   "outputs": [],
   "source": [
    "library(tidyverse)\n",
    "library(repr)\n",
    "library(cowplot)"
   ]
  },
  {
   "cell_type": "code",
   "execution_count": null,
   "metadata": {},
   "outputs": [],
   "source": [
    "spambase <- read.csv(\"https://raw.githubusercontent.com/rchanpra/stat-201-project/main/spambase/spambase.data\")"
   ]
  },
  {
   "cell_type": "code",
   "execution_count": null,
   "metadata": {},
   "outputs": [],
   "source": [
    "colnames(spambase) <- c(\"word_freq_make\",\"word_freq_address\",\"word_freq_all\",\"word_freq_3d\",\"word_freq_our\",\n",
    "                        \"word_freq_over\",\"word_freq_remove\",\"word_freq_internet\",\"word_freq_order\",\"word_freq_mail\",\n",
    "                        \"word_freq_receive\",\"word_freq_will\",\"word_freq_people\",\"word_freq_report\",\"word_freq_addresses\",\n",
    "                        \"word_freq_free\",\"word_freq_business\",\"word_freq_email\",\"word_freq_you\",\"word_freq_credit\",\n",
    "                        \"word_freq_your\",\"word_freq_font\",\"word_freq_000\",\"word_freq_money\",\"word_freq_hp\",\n",
    "                        \"word_freq_hpl\",\"word_freq_george\",\"word_freq_650\",\"word_freq_lab\",\"word_freq_labs\",\n",
    "                        \"word_freq_telnet\",\"word_freq_857\",\"word_freq_data\",\"word_freq_415\",\"word_freq_85\",\n",
    "                        \"word_freq_technology\",\"word_freq_1999\",\"word_freq_parts\",\"word_freq_pm\",\"word_freq_direct\",\n",
    "                        \"word_freq_cs\",\"word_freq_meeting\",\"word_freq_original\",\"word_freq_project\", \"word_freq_re\",\n",
    "                        \"word_freq_edu\",\"word_freq_table\",\"word_freq_conference\",\"char_freq_;\",\"char_freq_(\",\n",
    "                        \"char_freq_[\",\"char_freq_!\",\"char_freq_$\",\"char_freq_#\",\"capital_run_length_average\",\n",
    "                        \"capital_run_length_longest\",\"capital_run_length_total\",\"class\")"
   ]
  },
  {
   "cell_type": "code",
   "execution_count": null,
   "metadata": {},
   "outputs": [],
   "source": [
    "spambase <- spambase %>% \n",
    "    mutate(class = ifelse(class == 1, \"spam\", \"non-spam\"))"
   ]
  },
  {
   "cell_type": "code",
   "execution_count": null,
   "metadata": {},
   "outputs": [],
   "source": [
    "nrow(spambase)"
   ]
  },
  {
   "cell_type": "code",
   "execution_count": null,
   "metadata": {},
   "outputs": [],
   "source": [
    "head(spambase)"
   ]
  },
  {
   "cell_type": "markdown",
   "metadata": {},
   "source": [
    "We compute the sample mean and standard deviation of the average run length of capital letters, the count of spam and non-spam, and the difference in means."
   ]
  },
  {
   "cell_type": "code",
   "execution_count": null,
   "metadata": {},
   "outputs": [],
   "source": [
    "# Considering that the dataset is a sample from the larger population of spam email,\n",
    "# computing the mean and standard deviation of the word frequencies for each class produces our point estimates\n",
    "# We select the columns we need (class and capital_run_length_average)\n",
    "\n",
    "spambase_selected <- spambase %>% \n",
    "    select(capital_run_length_average,class)\n",
    "\n",
    "spambase_stats <- spambase_selected %>% \n",
    "    group_by(class) %>% \n",
    "    summarize(mean_capital_run_length_average = mean(capital_run_length_average), \n",
    "              sd_capital_run_length_average = sd(capital_run_length_average), \n",
    "              n = n())\n",
    "\n",
    "spambase_stats"
   ]
  },
  {
   "cell_type": "code",
   "execution_count": null,
   "metadata": {},
   "outputs": [],
   "source": [
    "diff_in_means <- spambase_stats$mean_capital_run_length_average[2] - spambase_stats$mean_capital_run_length_average[1]\n",
    "\n",
    "diff_in_means"
   ]
  },
  {
   "cell_type": "markdown",
   "metadata": {},
   "source": [
    "Spam has a greater sample mean and standard deviation than non-spam email.\n",
    "\n",
    "We visualize the sample distribution using `geom_boxplot()` and `geom_histogram()`."
   ]
  },
  {
   "cell_type": "code",
   "execution_count": null,
   "metadata": {},
   "outputs": [],
   "source": [
    "# Graph the distribution of variable of interest for each class, with vertical lines indicating the means of each class\n",
    "spam_boxplot <- spambase_selected %>% \n",
    "    ggplot() + \n",
    "    geom_boxplot(aes(class, capital_run_length_average, fill = class), outlier.shape = NA) + \n",
    "    # we do not display some extreme values, which are impractical to plot\n",
    "    scale_y_continuous(limits = c(0, 10)) + \n",
    "    theme(text = element_text(size = 10)) + \n",
    "    ggtitle(\"Boxplot of average length of capital letter runs for Spam and Non-Spam emails\") + \n",
    "    xlab(\"Class\") + \n",
    "    ylab(\"Average length of uninterrupted sequence of capital letters\")"
   ]
  },
  {
   "cell_type": "code",
   "execution_count": null,
   "metadata": {},
   "outputs": [],
   "source": [
    "spam_histogram <- spambase_selected %>% \n",
    "    filter(class == \"spam\") %>% \n",
    "    ggplot() + \n",
    "    geom_histogram(aes(x = capital_run_length_average, y = after_stat(density)), binwidth = 0.2) + \n",
    "    # we do not display some extreme values, which are impractical to plot\n",
    "    scale_x_continuous(limits = c(0, 50)) + \n",
    "    theme(text = element_text(size = 10)) + \n",
    "    ggtitle(\"Sample distribution of mean length of capital letter runs for Spam emails\") + \n",
    "    ylab(\"Frequency\") + \n",
    "    xlab(\"Average length of uninterrupted sequence of capital letters\")\n",
    "\n",
    "non_spam_histogram <- spambase_selected %>% \n",
    "    filter(class == \"non-spam\") %>% \n",
    "    ggplot() + \n",
    "    geom_histogram(aes(x = capital_run_length_average, y = after_stat(density)), binwidth = 0.2) + \n",
    "    # we do not display some extreme values, which are impractical to plot\n",
    "    scale_x_continuous(limits = c(0, 50)) + \n",
    "    theme(text = element_text(size = 10)) + \n",
    "    ggtitle(\"Sample distribution of mean length of capital letter runs for Non-Spam emails\") + \n",
    "    ylab(\"Frequency\") + \n",
    "    xlab(\"Average length of uninterrupted sequence of capital letters\")"
   ]
  },
  {
   "cell_type": "code",
   "execution_count": null,
   "metadata": {},
   "outputs": [],
   "source": [
    "options(repr.plot.width = 8, repr.plot.height = 4)\n",
    "spam_boxplot"
   ]
  },
  {
   "cell_type": "code",
   "execution_count": null,
   "metadata": {},
   "outputs": [],
   "source": [
    "options(repr.plot.width = 10, repr.plot.height = 6)\n",
    "plot_grid(spam_histogram, non_spam_histogram, ncol = 1)"
   ]
  },
  {
   "cell_type": "markdown",
   "metadata": {},
   "source": [
    "*Note: some larger values/outliers are not pictured in order to fit the majority of values\n",
    "\n",
    "Spam emails seem to typically have a greater average length with a wider spread.\n",
    "The distributions for both are unimodal and strongly right-skewed.\n",
    "\n",
    "Based on these results, we might believe spam has longer capital letter sequences. For instance, an email with unusually long sequences of capitals is suspect."
   ]
  },
  {
   "cell_type": "markdown",
   "metadata": {},
   "source": [
    "## Methods: Plan\n",
    "\n",
    "Assuming `Spambase` is a representative sample, our estimates of the mean values for capital letter sequences of spam and non-spam emails are likely to be good approximations of the true values, especially given the samples' large size. However, our point estimates do not provide any measure of how close they are likely to be to the true values: we do not know their uncertainty. We cannot use these results without further work.\n",
    "\n",
    "For our analysis, we will build a confidence interval of the difference in means to obtain a range of values that we are confident contains the true difference. Since both samples are large (1812 spam, 2788 non-spam), we could use the theory-based approach, assuming the sampling distribution is approximately normal by the Central Limit Theorem; or bootstrapping, which makes no such assumptions.  \n",
    "We will perform a two-sample t-test for the difference in means, using $H_0: \\mu_1 = \\mu_0$ vs $H_1: \\mu_1\\neq \\mu_0$, where 1 and 0 represent spam and non-spam. If there is a difference, we would expect to gain evidence of it from these inferences, such as a confidence interval that excludes 0, or rejecting the null hypothesis.\n",
    "\n",
    "Our analysis could aid individuals in purging unsolicited messages, or help legitimate marketers avoid being mistaken for spam. While plenty of models to detect spam exist, human-interpretable data may enable informed improvements.\n",
    "\n",
    "Although our study is limited to sequences of capital letters, the dataset contains many more variables. \n",
    "An immediate followup is:  \n",
    "What other patterns exist? Which are associated with spam and non-spam? "
   ]
  },
  {
   "cell_type": "markdown",
   "metadata": {},
   "source": [
    "# NOTE: NEW STUFF BELOW HERE"
   ]
  },
  {
   "cell_type": "markdown",
   "metadata": {},
   "source": [
    "## Methods: Bootstrap Confidence Interval (Not a hypothesis test)"
   ]
  },
  {
   "cell_type": "code",
   "execution_count": 1,
   "metadata": {},
   "outputs": [
    {
     "ename": "SyntaxError",
     "evalue": "invalid syntax (2218622481.py, line 1)",
     "output_type": "error",
     "traceback": [
      "\u001b[0;36m  Cell \u001b[0;32mIn[1], line 1\u001b[0;36m\u001b[0m\n\u001b[0;31m    spam_bootstrap_dist <- spambase_selected |> specify(formula=capital_run_length_average ~ class) |>\u001b[0m\n\u001b[0m                                              ^\u001b[0m\n\u001b[0;31mSyntaxError\u001b[0m\u001b[0;31m:\u001b[0m invalid syntax\n"
     ]
    }
   ],
   "source": [
    "set.seed(1048596)\n",
    "spam_bootstrap_dist <- spambase_selected |> specify(formula=capital_run_length_average ~ class) |>\n",
    "    generate(reps=1000, type=\"bootstrap\") |>\n",
    "    calculate(stat = \"diff in means\",order = c(\"spam\",\"non-spam\"))\n",
    "    \n",
    "spam_ci <- get_confidence_interval(level=0.95,type=\"percentile\")\n",
    "spam_ci # here's a 95% confidence interval for the mean occurrences of spam in email."
   ]
  },
  {
   "cell_type": "code",
   "execution_count": null,
   "metadata": {},
   "outputs": [],
   "source": []
  },
  {
   "cell_type": "markdown",
   "metadata": {},
   "source": [
    "## Methods: Bootstrap Hypothesis Testing"
   ]
  },
  {
   "cell_type": "markdown",
   "metadata": {},
   "source": [
    "We consider a null hypothesis: that capital letter frequency is completely unrelated to classification as spam. Here, we create the null model for this null hypothesis."
   ]
  },
  {
   "cell_type": "markdown",
   "metadata": {},
   "source": [
    "We do a one-sided hypothesis test, because we do not expect that spam email will contain fewer capital letters on average than non-spam. We choose an alpha of 0.05, as this is a common choice for a significance cutoff across fields. We begin with bootstrapping, instead of a theory-based approach, as the theory-based approaches are but approximations for bootstrapping. However, we will do both over the course of this report."
   ]
  },
  {
   "cell_type": "code",
   "execution_count": null,
   "metadata": {},
   "outputs": [],
   "source": [
    "set.seed(1337) # set the seed\n",
    "\n",
    "obs_diff_in_means <- spambase_selected |> specify(formula = capital_run_length_average ~ class) |>\n",
    "    calculate(stat=\"diff in means\", order=c(\"spam\",\"non-spam\"))\n",
    "\n",
    "null_diff_in_means <- spambase_selected |> specify(formula=capital_run_length_average ~ class) |>\n",
    "    hypothesize(null=\"independence\") |>\n",
    "    generate(reps=1000, type=\"permute\") |>\n",
    "    calculate(stat = \"diff in means\",order = c(\"spam\",\"non-spam\"))\n",
    "    \n",
    "p_value <- null_diff_in_means |> get_p_value(obs_stat = obs_diff_in_means,direction=\"right\")\n",
    "p_value"
   ]
  },
  {
   "cell_type": "markdown",
   "metadata": {},
   "source": [
    "We visualize the results of our bootstrapping."
   ]
  },
  {
   "cell_type": "code",
   "execution_count": null,
   "metadata": {},
   "outputs": [],
   "source": [
    "diff_in_medians_plot <- # adapted from tutorial 6 solution\n",
    "    visualize(null_diff_in_means, bins = 10) + \n",
    "    shade_p_value(obs_stat = obs_diff_in_means, direction = \"right\") +\n",
    "    xlab(\"Difference in mean\") +\n",
    "    theme(text = element_text(size = 20))"
   ]
  },
  {
   "cell_type": "markdown",
   "metadata": {},
   "source": [
    "## Methods: Theory-based testing\n",
    "Here we perform a t test to double-check the p value we acquired through bootstrapping"
   ]
  },
  {
   "cell_type": "code",
   "execution_count": null,
   "metadata": {},
   "outputs": [],
   "source": [
    "set.seed(1048596)\n",
    "\n",
    "# One-sample proportion T test. Presumably Two-sample is \n",
    "tidy(\n",
    "    prop.test(\n",
    "        x=nrow(filter(spambase_selected,class==\"spam\")),\n",
    "        n=nrow(spambase_selected),\n",
    "        p=0.5, # null hypothesis: there's no difference in the distribution\n",
    "        alternative=\"greater\",\n",
    "        conf.level=0.95, # 0.05 conf interval TODO check\n",
    "        correct=FALSE # don't use fancy statistical methods to fix stuff up\n",
    "    )\n",
    ")"
   ]
  },
  {
   "cell_type": "markdown",
   "metadata": {},
   "source": []
  }
 ],
 "metadata": {
  "kernelspec": {
   "display_name": "Python 3.11.5 64-bit",
   "language": "python",
   "name": "python3"
  },
  "language_info": {
   "codemirror_mode": {
    "name": "ipython",
    "version": 3
   },
   "file_extension": ".py",
   "mimetype": "text/x-python",
   "name": "python",
   "nbconvert_exporter": "python",
   "pygments_lexer": "ipython3",
   "version": "3.11.5"
  },
  "orig_nbformat": 4,
  "vscode": {
   "interpreter": {
    "hash": "b0fa6594d8f4cbf19f97940f81e996739fb7646882a419484c72d19e05852a7e"
   }
  }
 },
 "nbformat": 4,
 "nbformat_minor": 2
}
